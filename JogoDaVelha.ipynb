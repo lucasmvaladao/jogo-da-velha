{
  "nbformat": 4,
  "nbformat_minor": 0,
  "metadata": {
    "colab": {
      "provenance": [],
      "authorship_tag": "ABX9TyMQrjSe4KTyGPcF5ZdW0dIt",
      "include_colab_link": true
    },
    "kernelspec": {
      "name": "python3",
      "display_name": "Python 3"
    },
    "language_info": {
      "name": "python"
    }
  },
  "cells": [
    {
      "cell_type": "markdown",
      "metadata": {
        "id": "view-in-github",
        "colab_type": "text"
      },
      "source": [
        "<a href=\"https://colab.research.google.com/github/lucasmvaladao/jogo-da-velha/blob/main/JogoDaVelha.ipynb\" target=\"_parent\"><img src=\"https://colab.research.google.com/assets/colab-badge.svg\" alt=\"Open In Colab\"/></a>"
      ]
    },
    {
      "cell_type": "code",
      "execution_count": 4,
      "metadata": {
        "colab": {
          "base_uri": "https://localhost:8080/"
        },
        "id": "i8gDL-IQodHe",
        "outputId": "c71c2e23-a76f-434f-887b-d6b39361b860"
      },
      "outputs": [
        {
          "output_type": "stream",
          "name": "stdout",
          "text": [
            "\n",
            "Rodada 1\n",
            "1 2 3\n",
            "4 5 6\n",
            "7 8 9\n",
            "Inserir a posição desejada (1-9): 1\n",
            "\n",
            "Rodada 2\n",
            "X 2 3\n",
            "4 5 6\n",
            "7 8 9\n",
            "Inserir a posição desejada (1-9): 4\n",
            "\n",
            "Rodada 3\n",
            "X 2 3\n",
            "O 5 6\n",
            "7 8 9\n",
            "Inserir a posição desejada (1-9): 5\n",
            "\n",
            "Rodada 4\n",
            "X 2 3\n",
            "O X 6\n",
            "7 8 9\n",
            "Inserir a posição desejada (1-9): 9\n",
            "\n",
            "Rodada 5\n",
            "X 2 3\n",
            "O X 6\n",
            "7 8 O\n",
            "Inserir a posição desejada (1-9): 2\n",
            "\n",
            "Rodada 6\n",
            "X X 3\n",
            "O X 6\n",
            "7 8 O\n",
            "Inserir a posição desejada (1-9): 8\n",
            "\n",
            "Rodada 7\n",
            "X X 3\n",
            "O X 6\n",
            "7 O O\n",
            "Inserir a posição desejada (1-9): 3\n",
            "Jogador X venceu!\n"
          ]
        }
      ],
      "source": [
        "tabuleiro = [\n",
        "    ['1', '2', '3'],\n",
        "    ['4', '5', '6'],\n",
        "    ['7', '8', '9']\n",
        "]\n",
        "\n",
        "jogadas = 0\n",
        "vez_jogador = 'X'\n",
        "\n",
        "def checkVencedor():\n",
        "    for linha in range(3):\n",
        "        conca = tabuleiro[linha][0] + tabuleiro[linha][1] + tabuleiro[linha][2]\n",
        "        if conca == 'XXX':\n",
        "            print('Jogador X venceu!')\n",
        "            return True\n",
        "        elif conca == 'OOO':\n",
        "            print('Jogador O venceu!')\n",
        "            return True\n",
        "\n",
        "    for coluna in range(3):\n",
        "        concaC = tabuleiro[0][coluna] + tabuleiro[1][coluna] + tabuleiro[2][coluna]\n",
        "        if concaC == 'XXX':\n",
        "            print('Jogador X venceu!')\n",
        "            return True\n",
        "        elif concaC == 'OOO':\n",
        "            print('Jogador O venceu!')\n",
        "            return True\n",
        "\n",
        "    if tabuleiro[0][0] == tabuleiro[1][1] == tabuleiro[2][2] or \\\n",
        "       tabuleiro[0][2] == tabuleiro[1][1] == tabuleiro[2][0]:\n",
        "        print('Temos um vencedor!')\n",
        "        return True\n",
        "\n",
        "    return False\n",
        "\n",
        "while jogadas < 9:\n",
        "    print(f'\\nRodada {jogadas + 1}')\n",
        "\n",
        "    for l in tabuleiro:\n",
        "        print(' '.join(l))\n",
        "\n",
        "    posicao = input('Inserir a posição desejada (1-9): ')\n",
        "\n",
        "    posicao_valida = False\n",
        "    for linha in range(3):\n",
        "        for coluna in range(3):\n",
        "            if tabuleiro[linha][coluna] == posicao:\n",
        "                tabuleiro[linha][coluna] = vez_jogador\n",
        "                jogadas += 1\n",
        "                vez_jogador = 'O' if vez_jogador == 'X' else 'X'\n",
        "                posicao_valida = True\n",
        "                break\n",
        "        if posicao_valida:\n",
        "            break\n",
        "\n",
        "    if not posicao_valida:\n",
        "        print(\"Posição inválida ou já ocupada, tente novamente.\")\n",
        "        continue\n",
        "\n",
        "    if checkVencedor():\n",
        "        break\n",
        "\n",
        "if jogadas == 9 and not checkVencedor():\n",
        "    print(\"\\nEmpate!\")\n"
      ]
    }
  ]
}